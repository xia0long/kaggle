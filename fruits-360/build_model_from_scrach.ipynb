{
 "cells": [
  {
   "cell_type": "code",
   "execution_count": 1,
   "metadata": {},
   "outputs": [],
   "source": [
    "import os\n",
    "import time\n",
    "from glob import glob\n",
    "\n",
    "import numpy as np\n",
    "import matplotlib.pyplot as plt\n",
    "from PIL import Image\n",
    "from tqdm import tqdm\n",
    "\n",
    "import torch\n",
    "import torch.nn as nn\n",
    "import torch.nn.functional as F\n",
    "import torch.optim as optim\n",
    "from torch.autograd import Variable\n",
    "\n",
    "from torchvision.utils import make_grid\n",
    "from torchvision import datasets, transforms\n",
    "from torchvision.datasets import ImageFolder"
   ]
  },
  {
   "cell_type": "code",
   "execution_count": 2,
   "metadata": {},
   "outputs": [],
   "source": [
    "DATA_PATH = '/media/xiaolong/9bbdf31a-3238-4691-845c-7f9126769abe/Dataset/fruits-360'"
   ]
  },
  {
   "cell_type": "code",
   "execution_count": 3,
   "metadata": {},
   "outputs": [
    {
     "name": "stdout",
     "output_type": "stream",
     "text": [
      "Number of images in Training file: 41322\n",
      "13877\n"
     ]
    }
   ],
   "source": [
    "files_training = glob(os.path.join(DATA_PATH,'Training', '*/*.jpg'))\n",
    "files_testing = glob(os.path.join(DATA_PATH, 'Test', '*/*.jpg'))\n",
    "num_images = len(files_training)\n",
    "print('Number of images in Training file:', num_images)\n",
    "print(len(files_testing))"
   ]
  },
  {
   "cell_type": "code",
   "execution_count": 4,
   "metadata": {},
   "outputs": [
    {
     "name": "stdout",
     "output_type": "stream",
     "text": [
      "class               Count\n",
      "------------------------\n",
      "Grapefruit Pink      490\n",
      "Cherry Wax Yellow    492\n",
      "Apple Granny Smith   492\n",
      "Limes                490\n",
      "Rambutan             492\n",
      "Strawberry Wedge     738\n",
      "Clementine           490\n",
      "Cantaloupe 2         492\n",
      "Pomegranate          492\n",
      "Grape White 2        490\n",
      "Pear Williams        490\n",
      "Cocos                490\n",
      "Apple Red 1          492\n",
      "Avocado ripe         491\n",
      "Cherry Wax Black     492\n",
      "Passion Fruit        490\n",
      "Maracuja             490\n",
      "Physalis with Husk   492\n",
      "Huckleberry          490\n",
      "Strawberry           492\n",
      "Raspberry            490\n",
      "Cactus fruit         490\n",
      "Plum                 447\n",
      "Carambula            490\n",
      "Kaki                 490\n",
      "Grape Pink           492\n",
      "Dates                490\n",
      "Tamarillo            490\n",
      "Grape White          490\n",
      "Pear                 492\n",
      "Tomato Cherry Red    492\n",
      "Tomato 4             479\n",
      "Lemon                492\n",
      "Apple Golden 2       492\n",
      "Apple Red Delicious  490\n",
      "Pitahaya Red         490\n",
      "Cherry Rainier       738\n",
      "Guava                490\n",
      "Pineapple Mini       493\n",
      "Grapefruit White     492\n",
      "Granadilla           490\n",
      "Apple Golden 3       481\n",
      "Tangelo              490\n",
      "Peach                492\n",
      "Apricot              492\n",
      "Apple Red 2          492\n",
      "Tomato Maroon        367\n",
      "Apple Red 3          429\n",
      "Banana Red           490\n",
      "Melon Piel de Sapo   738\n",
      "Mulberry             492\n",
      "Cherry 1             492\n",
      "Tomato 3             738\n",
      "Nectarine            492\n",
      "Peach Flat           492\n",
      "Cantaloupe 1         492\n",
      "Mango                490\n",
      "Pineapple            490\n",
      "Pepino               490\n",
      "Papaya               492\n",
      "Quince               490\n",
      "Apple Braeburn       492\n",
      "Orange               479\n",
      "Walnut               735\n",
      "Tomato 2             672\n",
      "Avocado              427\n",
      "Lychee               490\n",
      "Pear Monster         490\n",
      "Salak                490\n",
      "Apple Golden 1       492\n",
      "Apple Red Yellow     492\n",
      "Physalis             492\n",
      "Kiwi                 466\n",
      "Tomato 1             738\n",
      "Banana               490\n",
      "Mandarine            490\n",
      "Lemon Meyer          490\n",
      "Cherry Wax Red       492\n",
      "Kumquats             490\n",
      "Cherry 2             738\n",
      "Pear Abate           490\n",
      "\n",
      "Minumum imgages per category: 367 Category: Pear Abate\n",
      "Average number of Images per Category: 510\n",
      "Total number of classes: 81\n"
     ]
    }
   ],
   "source": [
    "min_images = 1000\n",
    "im_cnt = []\n",
    "class_names = []\n",
    "print('{:20s}'.format('class'), end='')\n",
    "print('Count')\n",
    "print('-' * 24)\n",
    "for folder in os.listdir(os.path.join(DATA_PATH, 'Training')):\n",
    "    folder_num = len(os.listdir(os.path.join(DATA_PATH,'Training',folder)))\n",
    "    im_cnt.append(folder_num)\n",
    "    class_names.append(folder)\n",
    "    print('{:20s}'.format(folder), end=' ')\n",
    "    print(folder_num)\n",
    "    if (folder_num < min_images):\n",
    "        min_images = folder_num\n",
    "        folder_name = folder\n",
    "        \n",
    "num_classes = len(class_names)\n",
    "print(\"\\nMinumum imgages per category:\", min_images, 'Category:', folder)    \n",
    "print('Average number of Images per Category: {:.0f}'.format(np.array(im_cnt).mean()))\n",
    "print('Total number of classes: {}'.format(num_classes))"
   ]
  },
  {
   "cell_type": "code",
   "execution_count": 5,
   "metadata": {},
   "outputs": [],
   "source": [
    "tensor_transform = transforms.Compose([transforms.ToTensor()])\n",
    "all_data = ImageFolder(os.path.join(DATA_PATH, 'Training'), tensor_transform)\n",
    "data_loader = torch.utils.data.DataLoader(all_data, batch_size=512, shuffle=True)"
   ]
  },
  {
   "cell_type": "code",
   "execution_count": 6,
   "metadata": {},
   "outputs": [],
   "source": [
    "pop_mean = []\n",
    "pop_std = []\n",
    "\n",
    "for i, data in enumerate(data_loader, 0):\n",
    "    numpy_image = data[0].numpy()\n",
    "    \n",
    "    batch_mean = np.mean(numpy_image, axis=(0,2,3))\n",
    "    batch_std = np.std(numpy_image, axis=(0,2,3))\n",
    "    \n",
    "    pop_mean.append(batch_mean)\n",
    "    pop_std.append(batch_std)\n",
    "\n",
    "pop_mean = np.array(pop_mean).mean(axis=0)\n",
    "pop_std = np.array(pop_std).mean(axis=0)\n"
   ]
  },
  {
   "cell_type": "code",
   "execution_count": 7,
   "metadata": {},
   "outputs": [
    {
     "name": "stdout",
     "output_type": "stream",
     "text": [
      "[0.7037323  0.58449835 0.49839947]\n",
      "[0.28723374 0.3510937  0.38105354]\n"
     ]
    }
   ],
   "source": [
    "print(pop_mean)\n",
    "print(pop_std)"
   ]
  },
  {
   "cell_type": "code",
   "execution_count": 8,
   "metadata": {},
   "outputs": [
    {
     "name": "stdout",
     "output_type": "stream",
     "text": [
      "[21131 20574 28905 ... 17730 28030 15725] 41322\n"
     ]
    }
   ],
   "source": [
    "np.random.seed(123)\n",
    "shuffle = np.random.permutation(num_images)\n",
    "print(shuffle, len(shuffle))"
   ]
  },
  {
   "cell_type": "code",
   "execution_count": 9,
   "metadata": {},
   "outputs": [
    {
     "name": "stdout",
     "output_type": "stream",
     "text": [
      "Total number of images: 41322\n",
      "Number of valid images after split: 8264\n",
      "Number of train images after split: 33058\n"
     ]
    }
   ],
   "source": [
    "split_val = int(num_images * 0.2)\n",
    "print('Total number of images:', num_images)\n",
    "print('Number of valid images after split:',len(shuffle[:split_val]))\n",
    "print('Number of train images after split:',len(shuffle[split_val:]))"
   ]
  },
  {
   "cell_type": "code",
   "execution_count": 10,
   "metadata": {},
   "outputs": [],
   "source": [
    "from torch.utils.data import Dataset\n",
    "class FruitTrainDataset(Dataset):\n",
    "    def __init__(self, files, shuffle, split_val, class_names, transform=transforms.ToTensor()):\n",
    "        self.shuffle = shuffle\n",
    "        self.class_names = class_names\n",
    "        self.split_val = split_val\n",
    "        self.data = np.array([files[i] for i in shuffle[split_val:]])\n",
    "        self.transform=transform\n",
    "        \n",
    "    def __len__(self):\n",
    "        return len(self.data)\n",
    "    \n",
    "    def __getitem__(self, idx):\n",
    "        img = Image.open(self.data[idx])\n",
    "        name = self.data[idx].split('/')[-2]\n",
    "        y = self.class_names.index(name)\n",
    "        img = self.transform(img)\n",
    "            \n",
    "        return img, y\n",
    "\n",
    "class FruitValidDataset(Dataset):\n",
    "    def __init__(self, files, shuffle, split_val, class_names, transform=transforms.ToTensor()):\n",
    "        self.shuffle = shuffle\n",
    "        self.class_names = class_names\n",
    "        self.split_val = split_val\n",
    "        self.data = np.array([files[i] for i in shuffle[:split_val]])\n",
    "        self.transform=transform\n",
    "        \n",
    "    def __len__(self):\n",
    "        return len(self.data)\n",
    "    \n",
    "    def __getitem__(self, idx):\n",
    "        img = Image.open(self.data[idx])\n",
    "        name = self.data[idx].split('/')[-2]\n",
    "        y = self.class_names.index(name)\n",
    "        img = self.transform(img)\n",
    "            \n",
    "        return img, y\n",
    "    \n",
    "class FruitTestDataset(Dataset):\n",
    "    def __init__(self, path, class_names, transform=transforms.ToTensor()):\n",
    "        self.class_names = class_names\n",
    "        self.data = np.array(glob(os.path.join(path, '*/*.jpg')))\n",
    "        self.transform=transform\n",
    "        \n",
    "    def __len__(self):\n",
    "        return len(self.data)\n",
    "    \n",
    "    def __getitem__(self, idx):\n",
    "        img = Image.open(self.data[idx])\n",
    "        name = self.data[idx].split('/')[-2]\n",
    "        y = self.class_names.index(name)\n",
    "        img = self.transform(img)\n",
    "            \n",
    "        return img, y"
   ]
  },
  {
   "cell_type": "code",
   "execution_count": 11,
   "metadata": {},
   "outputs": [],
   "source": [
    "data_transforms = {\n",
    "    'train': transforms.Compose([\n",
    "        transforms.RandomHorizontalFlip(),\n",
    "        transforms.RandomVerticalFlip(),\n",
    "        transforms.ToTensor(),\n",
    "        transforms.Normalize(pop_mean, pop_std) # These were the mean and standard deviations that we calculated earlier.\n",
    "    ]),\n",
    "    'Test': transforms.Compose([\n",
    "        transforms.ToTensor(),\n",
    "        transforms.Normalize(pop_mean, pop_std) # These were the mean and standard deviations that we calculated earlier.\n",
    "    ]),\n",
    "    'valid': transforms.Compose([\n",
    "        transforms.ToTensor(),\n",
    "        transforms.Normalize(pop_mean, pop_std) # These were the mean and standard deviations that we calculated earlier.\n",
    "    ])\n",
    "}\n",
    "\n",
    "train_dataset = FruitTrainDataset(files_training, shuffle, split_val, class_names, data_transforms['train'])\n",
    "valid_dataset = FruitValidDataset(files_training, shuffle, split_val, class_names, data_transforms['valid'])\n",
    "test_dataset = FruitTestDataset(os.path.join(DATA_PATH, 'Test'), class_names, transform=data_transforms['Test'])\n",
    "\n",
    "train_loader = torch.utils.data.DataLoader(train_dataset, batch_size=64, shuffle=True)\n",
    "valid_loader = torch.utils.data.DataLoader(valid_dataset, batch_size=64, shuffle=True)\n",
    "test_loader = torch.utils.data.DataLoader(test_dataset, batch_size=64, shuffle=True)"
   ]
  },
  {
   "cell_type": "code",
   "execution_count": 12,
   "metadata": {},
   "outputs": [
    {
     "data": {
      "text/plain": [
       "{'train': 33058, 'valid': 8264, 'Test': 13877}"
      ]
     },
     "execution_count": 12,
     "metadata": {},
     "output_type": "execute_result"
    }
   ],
   "source": [
    "dataloaders = {'train': train_loader,\n",
    "              'valid': valid_loader,\n",
    "              'Test': test_loader}\n",
    "dataset_sizes = {\n",
    "    'train': len(train_dataset),\n",
    "    'valid': len(valid_dataset),\n",
    "    'Test': len(test_dataset)\n",
    "}\n",
    "\n",
    "dataset_sizes"
   ]
  },
  {
   "cell_type": "code",
   "execution_count": 13,
   "metadata": {},
   "outputs": [],
   "source": [
    "def imshow(inp, title=None):\n",
    "    \"\"\"Imshow for Tensor.\"\"\"\n",
    "    inp = inp.numpy().transpose((1, 2, 0))\n",
    "    inp = pop_std * inp + pop_mean\n",
    "    inp = np.clip(inp, 0, 1)\n",
    "    plt.imshow(inp)\n",
    "    if title is not None:\n",
    "        plt.title(title)\n",
    "    plt.pause(0.001)"
   ]
  },
  {
   "cell_type": "code",
   "execution_count": 14,
   "metadata": {},
   "outputs": [
    {
     "data": {
      "image/png": "[encoded data removed]",
      "text/plain": [
       "<Figure size 432x288 with 1 Axes>"
      ]
     },
     "metadata": {
      "needs_background": "light"
     },
     "output_type": "display_data"
    },
    {
     "name": "stdout",
     "output_type": "stream",
     "text": [
      "['Physalis with Husk', 'Rambutan', 'Walnut', 'Banana Red', 'Pepino', 'Tomato Cherry Red', 'Huckleberry', 'Cherry 2', 'Quince', 'Pepino', 'Walnut', 'Tomato Maroon', 'Salak', 'Mulberry', 'Apple Golden 2', 'Kiwi', 'Cherry Rainier', 'Clementine', 'Mulberry', 'Apple Red 3', 'Orange', 'Pepino', 'Apple Red 2', 'Tomato Cherry Red', 'Apple Golden 2', 'Strawberry Wedge', 'Kaki', 'Tamarillo', 'Cocos', 'Mandarine', 'Dates', 'Cocos', 'Tamarillo', 'Tomato 4', 'Dates', 'Tamarillo', 'Tomato 2', 'Kiwi', 'Lychee', 'Cherry 2', 'Kumquats', 'Tomato Cherry Red', 'Physalis with Husk', 'Cantaloupe 1', 'Grape Pink', 'Salak', 'Nectarine', 'Tangelo', 'Passion Fruit', 'Cocos', 'Apple Red Yellow', 'Mandarine', 'Apple Braeburn', 'Melon Piel de Sapo', 'Tomato Cherry Red', 'Avocado ripe', 'Apple Granny Smith', 'Cherry 1', 'Grape White 2', 'Physalis with Husk', 'Dates', 'Tomato 3', 'Mulberry', 'Apple Red Delicious']\n"
     ]
    }
   ],
   "source": [
    "inputs, classes = next(iter(train_loader))\n",
    "out = make_grid(inputs)\n",
    "\n",
    "fruits = ['' for x in range(len(classes))]\n",
    "for i in range(len(classes)):\n",
    "    fruits[i] = class_names[classes[i].item()]\n",
    "    \n",
    "imshow(out)\n",
    "print(fruits)"
   ]
  },
  {
   "cell_type": "code",
   "execution_count": 15,
   "metadata": {},
   "outputs": [],
   "source": [
    "class Net(nn.Module):\n",
    "    def __init__(self, num_classes):\n",
    "        super().__init__()\n",
    "        self.conv1 = nn.Conv2d(3, 16, kernel_size=5)\n",
    "        self.conv1_bn = nn.BatchNorm2d(16)\n",
    "        self.pool = nn.MaxPool2d(2, 2)\n",
    "        \n",
    "        self.conv2 = nn.Conv2d(16, 32, kernel_size=3)\n",
    "        self.conv2_bn = nn.BatchNorm2d(32)\n",
    "        \n",
    "        self.conv3 = nn.Conv2d(32, 64, kernel_size=3)\n",
    "        self.conv3_bn = nn.BatchNorm2d(64)\n",
    "        \n",
    "        self.fc1 = nn.Linear(64 * 10 * 10, 250)\n",
    "        self.fc2 = nn.Linear(250, num_classes)\n",
    "\n",
    "    def forward(self, x):\n",
    "        x = self.pool(F.relu(self.conv1_bn(self.conv1(x))))\n",
    "        x = self.pool(F.relu(self.conv2_bn(self.conv2(x))))\n",
    "        x = self.pool(F.relu(self.conv3_bn(self.conv3(x))))\n",
    "        x = x.view(-1, 64 * 10 * 10)\n",
    "        x = F.dropout(F.relu(self.fc1(x)), training=self.training, p=0.4)\n",
    "        x = self.fc2(x)\n",
    "\n",
    "        return F.log_softmax(x, dim=1) "
   ]
  },
  {
   "cell_type": "code",
   "execution_count": 16,
   "metadata": {},
   "outputs": [
    {
     "data": {
      "text/plain": [
       "device(type='cuda', index=0)"
      ]
     },
     "execution_count": 16,
     "metadata": {},
     "output_type": "execute_result"
    }
   ],
   "source": [
    "device = torch.device(\"cuda:0\" if torch.cuda.is_available() else \"cpu\")\n",
    "device"
   ]
  },
  {
   "cell_type": "code",
   "execution_count": 17,
   "metadata": {},
   "outputs": [
    {
     "name": "stdout",
     "output_type": "stream",
     "text": [
      "----------------------------------------------------------------\n",
      "        Layer (type)               Output Shape         Param #\n",
      "================================================================\n",
      "            Conv2d-1           [-1, 16, 96, 96]           1,216\n",
      "       BatchNorm2d-2           [-1, 16, 96, 96]              32\n",
      "         MaxPool2d-3           [-1, 16, 48, 48]               0\n",
      "            Conv2d-4           [-1, 32, 46, 46]           4,640\n",
      "       BatchNorm2d-5           [-1, 32, 46, 46]              64\n",
      "         MaxPool2d-6           [-1, 32, 23, 23]               0\n",
      "            Conv2d-7           [-1, 64, 21, 21]          18,496\n",
      "       BatchNorm2d-8           [-1, 64, 21, 21]             128\n",
      "         MaxPool2d-9           [-1, 64, 10, 10]               0\n",
      "           Linear-10                  [-1, 250]       1,600,250\n",
      "           Linear-11                   [-1, 81]          20,331\n",
      "================================================================\n",
      "Total params: 1,645,157\n",
      "Trainable params: 1,645,157\n",
      "Non-trainable params: 0\n",
      "----------------------------------------------------------------\n",
      "Input size (MB): 0.11\n",
      "Forward/backward pass size (MB): 4.18\n",
      "Params size (MB): 6.28\n",
      "Estimated Total Size (MB): 10.57\n",
      "----------------------------------------------------------------\n"
     ]
    },
    {
     "name": "stderr",
     "output_type": "stream",
     "text": [
      "/home/xiaolong/.local/lib/python3.8/site-packages/torch/nn/functional.py:718: UserWarning: Named tensors and all their associated APIs are an experimental feature and subject to change. Please do not use them for anything important until they are released as stable. (Triggered internally at  /pytorch/c10/core/TensorImpl.h:1156.)\n",
      "  return torch.max_pool2d(input, kernel_size, stride, padding, dilation, ceil_mode)\n"
     ]
    }
   ],
   "source": [
    "from torchsummary import summary\n",
    "model = Net(num_classes)\n",
    "model.to(device)\n",
    "summary(model, (3, 100, 100))"
   ]
  },
  {
   "cell_type": "code",
   "execution_count": 18,
   "metadata": {},
   "outputs": [],
   "source": [
    "criterion = nn.CrossEntropyLoss()\n",
    "optimizer = torch.optim.SGD(model.parameters(), 0.01, momentum=0.9)\n",
    "from torch.optim.lr_scheduler import *\n",
    "scheduler=StepLR(optimizer,step_size=3)"
   ]
  },
  {
   "cell_type": "code",
   "execution_count": 19,
   "metadata": {},
   "outputs": [],
   "source": [
    "def train(model,device, train_loader, epoch):\n",
    "    model.train()\n",
    "    for data in tqdm(train_loader):\n",
    "        x, y = data\n",
    "        x = x.to(device)\n",
    "        y = y.to(device)\n",
    "        optimizer.zero_grad()\n",
    "        y_hat = model(x)\n",
    "        loss = criterion(y_hat, y)\n",
    "        loss.backward()\n",
    "        optimizer.step()\n",
    "    print ('Train Epoch: {}\\t Loss: {:.6f}'.format(epoch, loss.item()))"
   ]
  },
  {
   "cell_type": "code",
   "execution_count": 20,
   "metadata": {},
   "outputs": [],
   "source": [
    "def valid(model, device, valid_loader):\n",
    "    model.eval()\n",
    "    valid_loss = 0\n",
    "    correct = 0\n",
    "    with torch.no_grad():\n",
    "        for data in tqdm(valid_loader):          \n",
    "            x, y = data\n",
    "            x = x.to(device)\n",
    "            y = y.to(device)\n",
    "            optimizer.zero_grad()\n",
    "            y_hat = model(x)\n",
    "            valid_loss += criterion(y_hat, y).item() # sum up batch loss\n",
    "            pred = y_hat.max(1, keepdim=True)[1] # get the index of the max log-probability\n",
    "            correct += pred.eq(y.view_as(pred)).sum().item()\n",
    "    valid_loss /= len(valid_loader.dataset)\n",
    "    print('\\nValid set: Average loss: {:.4f}, Accuracy: {}/{} ({:.0f}%)\\n'.format(\n",
    "        valid_loss, correct, len(valid_dataset),\n",
    "        100. * correct / len(valid_dataset)))"
   ]
  },
  {
   "cell_type": "code",
   "execution_count": 21,
   "metadata": {},
   "outputs": [
    {
     "name": "stderr",
     "output_type": "stream",
     "text": [
      "100%|██████████| 517/517 [00:20<00:00, 25.41it/s]\n",
      "  2%|▏         | 3/130 [00:00<00:04, 27.22it/s]"
     ]
    },
    {
     "name": "stdout",
     "output_type": "stream",
     "text": [
      "Train Epoch: 1\t Loss: 0.351694\n"
     ]
    },
    {
     "name": "stderr",
     "output_type": "stream",
     "text": [
      "100%|██████████| 130/130 [00:04<00:00, 26.90it/s]\n",
      "  1%|          | 3/517 [00:00<00:18, 27.27it/s]"
     ]
    },
    {
     "name": "stdout",
     "output_type": "stream",
     "text": [
      "\n",
      "Valid set: Average loss: 0.0020, Accuracy: 7917/8264 (96%)\n",
      "\n"
     ]
    },
    {
     "name": "stderr",
     "output_type": "stream",
     "text": [
      "100%|██████████| 517/517 [00:20<00:00, 25.46it/s]\n",
      "  2%|▏         | 3/130 [00:00<00:04, 27.39it/s]"
     ]
    },
    {
     "name": "stdout",
     "output_type": "stream",
     "text": [
      "Train Epoch: 2\t Loss: 0.319196\n"
     ]
    },
    {
     "name": "stderr",
     "output_type": "stream",
     "text": [
      "100%|██████████| 130/130 [00:04<00:00, 27.87it/s]\n",
      "  1%|          | 3/517 [00:00<00:18, 27.32it/s]"
     ]
    },
    {
     "name": "stdout",
     "output_type": "stream",
     "text": [
      "\n",
      "Valid set: Average loss: 0.0018, Accuracy: 7950/8264 (96%)\n",
      "\n"
     ]
    },
    {
     "name": "stderr",
     "output_type": "stream",
     "text": [
      "100%|██████████| 517/517 [00:20<00:00, 25.44it/s]\n",
      "  2%|▏         | 3/130 [00:00<00:04, 27.51it/s]"
     ]
    },
    {
     "name": "stdout",
     "output_type": "stream",
     "text": [
      "Train Epoch: 3\t Loss: 0.188639\n"
     ]
    },
    {
     "name": "stderr",
     "output_type": "stream",
     "text": [
      "100%|██████████| 130/130 [00:04<00:00, 27.78it/s]\n",
      "  1%|          | 3/517 [00:00<00:18, 27.87it/s]"
     ]
    },
    {
     "name": "stdout",
     "output_type": "stream",
     "text": [
      "\n",
      "Valid set: Average loss: 0.0005, Accuracy: 8159/8264 (99%)\n",
      "\n"
     ]
    },
    {
     "name": "stderr",
     "output_type": "stream",
     "text": [
      "100%|██████████| 517/517 [00:20<00:00, 25.46it/s]\n",
      "  2%|▏         | 3/130 [00:00<00:04, 27.30it/s]"
     ]
    },
    {
     "name": "stdout",
     "output_type": "stream",
     "text": [
      "Train Epoch: 4\t Loss: 0.080472\n"
     ]
    },
    {
     "name": "stderr",
     "output_type": "stream",
     "text": [
      "100%|██████████| 130/130 [00:04<00:00, 27.14it/s]\n",
      "  1%|          | 3/517 [00:00<00:18, 27.62it/s]"
     ]
    },
    {
     "name": "stdout",
     "output_type": "stream",
     "text": [
      "\n",
      "Valid set: Average loss: 0.0006, Accuracy: 8148/8264 (99%)\n",
      "\n"
     ]
    },
    {
     "name": "stderr",
     "output_type": "stream",
     "text": [
      "100%|██████████| 517/517 [00:20<00:00, 25.46it/s]\n",
      "  2%|▏         | 3/130 [00:00<00:04, 26.75it/s]"
     ]
    },
    {
     "name": "stdout",
     "output_type": "stream",
     "text": [
      "Train Epoch: 5\t Loss: 0.107731\n"
     ]
    },
    {
     "name": "stderr",
     "output_type": "stream",
     "text": [
      "100%|██████████| 130/130 [00:04<00:00, 27.09it/s]\n",
      "  1%|          | 3/517 [00:00<00:18, 27.27it/s]"
     ]
    },
    {
     "name": "stdout",
     "output_type": "stream",
     "text": [
      "\n",
      "Valid set: Average loss: 0.0004, Accuracy: 8176/8264 (99%)\n",
      "\n"
     ]
    },
    {
     "name": "stderr",
     "output_type": "stream",
     "text": [
      "100%|██████████| 517/517 [00:20<00:00, 25.45it/s]\n",
      "  2%|▏         | 3/130 [00:00<00:04, 27.32it/s]"
     ]
    },
    {
     "name": "stdout",
     "output_type": "stream",
     "text": [
      "Train Epoch: 6\t Loss: 0.077317\n"
     ]
    },
    {
     "name": "stderr",
     "output_type": "stream",
     "text": [
      "100%|██████████| 130/130 [00:04<00:00, 26.95it/s]\n",
      "  1%|          | 3/517 [00:00<00:18, 27.86it/s]"
     ]
    },
    {
     "name": "stdout",
     "output_type": "stream",
     "text": [
      "\n",
      "Valid set: Average loss: 0.0002, Accuracy: 8199/8264 (99%)\n",
      "\n"
     ]
    },
    {
     "name": "stderr",
     "output_type": "stream",
     "text": [
      "100%|██████████| 517/517 [00:20<00:00, 25.47it/s]\n",
      "  2%|▏         | 3/130 [00:00<00:04, 27.35it/s]"
     ]
    },
    {
     "name": "stdout",
     "output_type": "stream",
     "text": [
      "Train Epoch: 7\t Loss: 0.043464\n"
     ]
    },
    {
     "name": "stderr",
     "output_type": "stream",
     "text": [
      "100%|██████████| 130/130 [00:04<00:00, 27.32it/s]\n",
      "  1%|          | 3/517 [00:00<00:18, 27.78it/s]"
     ]
    },
    {
     "name": "stdout",
     "output_type": "stream",
     "text": [
      "\n",
      "Valid set: Average loss: 0.0003, Accuracy: 8195/8264 (99%)\n",
      "\n"
     ]
    },
    {
     "name": "stderr",
     "output_type": "stream",
     "text": [
      "100%|██████████| 517/517 [00:20<00:00, 25.46it/s]\n",
      "  2%|▏         | 3/130 [00:00<00:04, 27.42it/s]"
     ]
    },
    {
     "name": "stdout",
     "output_type": "stream",
     "text": [
      "Train Epoch: 8\t Loss: 0.041066\n"
     ]
    },
    {
     "name": "stderr",
     "output_type": "stream",
     "text": [
      "100%|██████████| 130/130 [00:04<00:00, 27.03it/s]\n",
      "  1%|          | 3/517 [00:00<00:18, 27.45it/s]"
     ]
    },
    {
     "name": "stdout",
     "output_type": "stream",
     "text": [
      "\n",
      "Valid set: Average loss: 0.0002, Accuracy: 8216/8264 (99%)\n",
      "\n"
     ]
    },
    {
     "name": "stderr",
     "output_type": "stream",
     "text": [
      "100%|██████████| 517/517 [00:20<00:00, 25.47it/s]\n",
      "  2%|▏         | 3/130 [00:00<00:04, 27.75it/s]"
     ]
    },
    {
     "name": "stdout",
     "output_type": "stream",
     "text": [
      "Train Epoch: 9\t Loss: 0.030560\n"
     ]
    },
    {
     "name": "stderr",
     "output_type": "stream",
     "text": [
      "100%|██████████| 130/130 [00:04<00:00, 27.51it/s]"
     ]
    },
    {
     "name": "stdout",
     "output_type": "stream",
     "text": [
      "\n",
      "Valid set: Average loss: 0.0001, Accuracy: 8219/8264 (99%)\n",
      "\n"
     ]
    },
    {
     "name": "stderr",
     "output_type": "stream",
     "text": [
      "\n"
     ]
    }
   ],
   "source": [
    "for epoch in range(1, 10):\n",
    "    train(model=model, device=device, train_loader=train_loader, epoch=epoch)\n",
    "    valid(model=model, device=device, valid_loader=valid_loader)"
   ]
  },
  {
   "cell_type": "code",
   "execution_count": null,
   "metadata": {},
   "outputs": [],
   "source": []
  }
 ],
 "metadata": {
  "kernelspec": {
   "display_name": "Python 3",
   "language": "python",
   "name": "python3"
  },
  "language_info": {
   "codemirror_mode": {
    "name": "ipython",
    "version": 3
   },
   "file_extension": ".py",
   "mimetype": "text/x-python",
   "name": "python",
   "nbconvert_exporter": "python",
   "pygments_lexer": "ipython3",
   "version": "3.8.6"
  }
 },
 "nbformat": 4,
 "nbformat_minor": 4
}
