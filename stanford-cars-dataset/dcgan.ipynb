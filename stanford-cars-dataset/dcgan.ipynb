{
 "cells": [
  {
   "cell_type": "code",
   "execution_count": 1,
   "id": "d6b76615-b43e-4c8b-a410-311bedca8e66",
   "metadata": {},
   "outputs": [],
   "source": [
    "import os\n",
    "import sys\n",
    "import glob\n",
    "import datetime\n",
    "\n",
    "from tqdm import tqdm\n",
    "from PIL import Image\n",
    "import numpy as np\n",
    "import matplotlib.pyplot as plt\n",
    "\n",
    "import torch\n",
    "import torch.nn as nn\n",
    "import torch.nn.functional as F\n",
    "from torch.utils.data import DataLoader\n",
    "from torch.utils.data.dataset import Dataset\n",
    "from torchvision import datasets, transforms"
   ]
  },
  {
   "cell_type": "code",
   "execution_count": 2,
   "id": "cc8df573-0b91-477d-b760-0610ba5767a0",
   "metadata": {},
   "outputs": [
    {
     "data": {
      "text/plain": [
       "device(type='cuda', index=0)"
      ]
     },
     "execution_count": 2,
     "metadata": {},
     "output_type": "execute_result"
    }
   ],
   "source": [
    "DATA_PATH = \"/media/xiaolong/9bbdf31a-3238-4691-845c-7f9126769abe/Dataset/stanford-cars-dataset/data/cars_train\" \n",
    "IMAGE_DIM = (32, 32, 3)\n",
    "BATCH_SIZE = 64\n",
    "DEVICE = device = torch.device('cuda:0' if torch.cuda.is_available() else 'cpu')\n",
    "DEVICE"
   ]
  },
  {
   "cell_type": "code",
   "execution_count": 3,
   "id": "d90d6c81-0531-4ea8-8ff8-7daa5def5fac",
   "metadata": {},
   "outputs": [],
   "source": [
    "class Discriminator(nn.Module):\n",
    "    def __init__(self, in_channel=1, num_classes=1):\n",
    "        super(Discriminator, self).__init__()\n",
    "        self.conv = nn.Sequential(\n",
    "            # 28 -> 14\n",
    "            nn.Conv2d(in_channel, 512, 3, stride=2, padding=1, bias=False),\n",
    "            nn.BatchNorm2d(512),\n",
    "            nn.LeakyReLU(0.2),\n",
    "            # 14 -> 7\n",
    "            nn.Conv2d(512, 256, 3, stride=2, padding=1, bias=False),\n",
    "            nn.BatchNorm2d(256),\n",
    "            nn.LeakyReLU(0.2),\n",
    "            # 7-> 4\n",
    "            nn.Conv2d(256, 128, 3, stride=2, padding=1, bias=False),\n",
    "            nn.BatchNorm2d(128),\n",
    "            nn.LeakyReLU(0.2),\n",
    "            #\n",
    "            nn.Conv2d(128, 128, 3, stride=2, padding=1, bias=False),\n",
    "            nn.BatchNorm2d(128),\n",
    "            nn.LeakyReLU(0.2),\n",
    "            nn.AdaptiveAvgPool2d(1)\n",
    "        )\n",
    "        self.fc = nn.Sequential(\n",
    "            # reshape input, 128 -> 1\n",
    "            nn.Linear(128, 1),\n",
    "            nn.Sigmoid()\n",
    "        )\n",
    "\n",
    "    def forward(self, x):\n",
    "        x = self.conv(x)\n",
    "        x = x.view(x.size(0), -1)\n",
    "        x = self.fc(x)\n",
    "        return x"
   ]
  },
  {
   "cell_type": "code",
   "execution_count": 4,
   "id": "6fc3b351-f595-4087-8b37-9e1351e934b7",
   "metadata": {},
   "outputs": [],
   "source": [
    "class Generator(nn.Module):\n",
    "    def __init__(self, out_channel=1, input_size=100, num_classes=784):\n",
    "        super(Generator, self).__init__()\n",
    "        assert IMAGE_DIM[0] % 2**4 == 0, \"Should be divided 16\"\n",
    "        self.init_dim = (IMAGE_DIM[0] // 2**4, IMAGE_DIM[1] // 2**4)\n",
    "        self.fc = nn.Sequential(\n",
    "            nn.Linear(input_size, self.init_dim[0] * self.init_dim[1] * 512),\n",
    "            nn.ReLU()\n",
    "        )\n",
    "        self.conv = nn.Sequential(\n",
    "            nn.Conv2d(512, 512, 3, padding=1, bias=False),\n",
    "            nn.BatchNorm2d(512),\n",
    "            nn.ReLU(),\n",
    "            # x2\n",
    "            nn.ConvTranspose2d(512, 256, 4, stride=2, padding=1, bias=False),\n",
    "            nn.BatchNorm2d(256),\n",
    "            nn.ReLU(),\n",
    "            # x2\n",
    "            nn.ConvTranspose2d(256, 128, 4, stride=2, padding=1, bias=False),\n",
    "            nn.BatchNorm2d(128),\n",
    "            nn.ReLU(),\n",
    "            # x2\n",
    "            nn.ConvTranspose2d(128, 128, 4, stride=2, padding=1, bias=False),\n",
    "            nn.BatchNorm2d(128),\n",
    "            nn.ReLU(),\n",
    "            # x2\n",
    "            nn.ConvTranspose2d(128, out_channel, 4, stride=2, padding=1, bias=False),\n",
    "            nn.Tanh()\n",
    "        )\n",
    "        \n",
    "    def forward(self, x):\n",
    "        x = x.view(x.size(0), -1)\n",
    "        x = self.fc(x)\n",
    "        x = x.view(x.size(0), 512, self.init_dim[0], self.init_dim[1])\n",
    "        x = self.conv(x)\n",
    "        return x"
   ]
  },
  {
   "cell_type": "code",
   "execution_count": 5,
   "id": "a8271323-6435-455e-bc6c-ac98637a1a23",
   "metadata": {},
   "outputs": [],
   "source": [
    "D = Discriminator(in_channel=IMAGE_DIM[-1]).to(DEVICE)\n",
    "G = Generator(out_channel=IMAGE_DIM[-1]).to(DEVICE)"
   ]
  },
  {
   "cell_type": "code",
   "execution_count": 6,
   "id": "f1565a9c-aacb-4fff-a5a2-8a1f6b3b0c32",
   "metadata": {},
   "outputs": [],
   "source": [
    "class CARDataset(Dataset):\n",
    "    def __init__(self, data_path, tansform=None):\n",
    "        self.data_path = data_path\n",
    "        self.transform = transform\n",
    "        self.fpaths = sorted(glob.glob(os.path.join(data_path, \"*/*.jpg\")))\n",
    "        \n",
    "        gray_lst = [266, 1085, 2176, 3048, 3439, 3469, 3539, 4577, 4848,\n",
    "                   5177, 5502, 5713, 6947, 7383, 7693, 7774, 8137, 8144]\n",
    "        for fpath in self.fpaths:\n",
    "            if any([str(i) in fpath for i in gray_lst]):\n",
    "                self.fpaths.remove(fpath)\n",
    "        \n",
    "    def __getitem__(self, idx):\n",
    "        img = self.transform(Image.open(self.fpaths[idx]))\n",
    "        return img\n",
    "    \n",
    "    def __len__(self):\n",
    "        return len(self.fpaths)"
   ]
  },
  {
   "cell_type": "code",
   "execution_count": 7,
   "id": "76eec76d-0d4c-45bb-9042-8d70a9f2466e",
   "metadata": {},
   "outputs": [],
   "source": [
    "transform = transforms.Compose([\n",
    "    transforms.Resize((IMAGE_DIM[0], IMAGE_DIM[1])),\n",
    "    transforms.ToTensor(),\n",
    "    transforms.Normalize(mean=(0.5, 0.5, 0.5), std=(0.5, 0.5, 0.5))\n",
    "])\n",
    "dataset = CARDataset(DATA_PATH, transform)\n",
    "data_loader = DataLoader(\n",
    "    dataset=dataset,\n",
    "    batch_size=BATCH_SIZE,\n",
    "    shuffle=True,\n",
    "    drop_last=True,\n",
    "    num_workers=8\n",
    ")"
   ]
  },
  {
   "cell_type": "code",
   "execution_count": 8,
   "id": "eb7854d2-305a-4508-9342-ebae6635d319",
   "metadata": {},
   "outputs": [],
   "source": [
    "criterion = nn.BCELoss()\n",
    "D_opt = torch.optim.Adam(D.parameters(), lr=0.001, betas=(0.5, 0.999))\n",
    "G_opt = torch.optim.Adam(G.parameters(), lr=0.001, betas=(0.5, 0.999))"
   ]
  },
  {
   "cell_type": "code",
   "execution_count": 9,
   "id": "888f51eb-920a-4a58-8446-128bf114c97a",
   "metadata": {},
   "outputs": [],
   "source": [
    "step = 0\n",
    "EPOCHS = 10\n",
    "N_CRITIC = 1 # for training more k steps about Discriminator\n",
    "N_NOISE = 100"
   ]
  },
  {
   "cell_type": "code",
   "execution_count": 10,
   "id": "77850f82-b6a3-48b5-a302-d2f6227c3f91",
   "metadata": {},
   "outputs": [],
   "source": [
    "D_labels = torch.ones([BATCH_SIZE, 1]).to(DEVICE) # Discriminator Label to real\n",
    "D_fakes = torch.zeros([BATCH_SIZE, 1]).to(DEVICE) # Discriminator Label to fake"
   ]
  },
  {
   "cell_type": "code",
   "execution_count": 11,
   "id": "6bcc36a8-040c-448b-b86f-1fbb22aace67",
   "metadata": {},
   "outputs": [],
   "source": [
    "def get_sample_image(G, n_noise):\n",
    "    z = torch.randn(10, n_noise).to(DEVICE)\n",
    "    y_hat = G(z).view(10, 3, 32, 32).permute(0, 2, 3, 1)\n",
    "    result = (y_hat.detach().cpu().numpy() + 1) / 2.0\n",
    "    return result"
   ]
  },
  {
   "cell_type": "code",
   "execution_count": 12,
   "id": "b9b3db9f-d7df-46e6-a8dc-e4a2ba0fa225",
   "metadata": {},
   "outputs": [
    {
     "name": "stderr",
     "output_type": "stream",
     "text": [
      "  2%|▏         | 2/126 [00:01<00:58,  2.14it/s]"
     ]
    },
    {
     "name": "stdout",
     "output_type": "stream",
     "text": [
      "Epoch: 0/10, Step: 0, D Loss: 1.3978, G Loss: 0.7397\n"
     ]
    },
    {
     "name": "stderr",
     "output_type": "stream",
     "text": [
      "100%|██████████| 126/126 [00:26<00:00,  4.79it/s]\n",
      "100%|██████████| 126/126 [00:26<00:00,  4.83it/s]\n",
      "100%|██████████| 126/126 [00:26<00:00,  4.81it/s]\n",
      " 98%|█████████▊| 124/126 [00:25<00:00,  5.07it/s]"
     ]
    },
    {
     "name": "stdout",
     "output_type": "stream",
     "text": [
      "Epoch: 3/10, Step: 500, D Loss: 0.7252, G Loss: 2.1827\n"
     ]
    },
    {
     "name": "stderr",
     "output_type": "stream",
     "text": [
      "100%|██████████| 126/126 [00:26<00:00,  4.81it/s]\n",
      "100%|██████████| 126/126 [00:26<00:00,  4.81it/s]\n",
      "100%|██████████| 126/126 [00:26<00:00,  4.81it/s]\n",
      "100%|██████████| 126/126 [00:26<00:00,  4.77it/s]\n",
      " 95%|█████████▌| 120/126 [00:24<00:01,  5.08it/s]"
     ]
    },
    {
     "name": "stdout",
     "output_type": "stream",
     "text": [
      "Epoch: 7/10, Step: 1000, D Loss: 0.9676, G Loss: 1.8145\n"
     ]
    },
    {
     "name": "stderr",
     "output_type": "stream",
     "text": [
      "100%|██████████| 126/126 [00:26<00:00,  4.80it/s]\n",
      "100%|██████████| 126/126 [00:26<00:00,  4.75it/s]\n",
      "100%|██████████| 126/126 [00:26<00:00,  4.77it/s]\n"
     ]
    }
   ],
   "source": [
    "for epoch in range(EPOCHS):\n",
    "    for images in tqdm(data_loader):\n",
    "        # Training Discriminator\n",
    "        x = images.to(DEVICE)\n",
    "        x_outputs = D(x)\n",
    "        D_x_loss = criterion(x_outputs, D_labels)\n",
    "        \n",
    "        z = torch.randn(BATCH_SIZE, N_NOISE).to(DEVICE)\n",
    "        G(z)\n",
    "        z_outputs = D(G(z))\n",
    "        D_z_loss = criterion(z_outputs, D_fakes)\n",
    "        D_loss = D_x_loss + D_z_loss\n",
    "        \n",
    "        D.zero_grad()\n",
    "        D_loss.backward()\n",
    "        D_opt.step()\n",
    "        \n",
    "        if step % N_CRITIC == 0:\n",
    "            # Training Generator\n",
    "            z = torch.randn(BATCH_SIZE, N_NOISE).to(DEVICE)\n",
    "            z_outputs = D(G(z))\n",
    "            G_loss = criterion(z_outputs, D_labels)\n",
    "            \n",
    "            D.zero_grad()\n",
    "            G.zero_grad()\n",
    "            G_loss.backward()\n",
    "            G_opt.step()\n",
    "            \n",
    "        if step % 500 == 0:\n",
    "            print(\"Epoch: {}/{}, Step: {}, D Loss: {:.4f}, G Loss: {:.4f}\".format(\n",
    "                epoch, EPOCHS, step, D_loss.item(), G_loss.item()\n",
    "            ))\n",
    "            G.eval()\n",
    "            img = get_sample_image(G, N_NOISE)\n",
    "            plt.imsave(\"samples/dcgan_step{:05d}.jpg\".format(step), img[0])\n",
    "            G.train()\n",
    "        step += 1"
   ]
  },
  {
   "cell_type": "code",
   "execution_count": 13,
   "id": "ed5fc462-c4e8-47f7-aa5a-67ff8d5546f4",
   "metadata": {},
   "outputs": [
    {
     "data": {
      "text/plain": [
       "<matplotlib.image.AxesImage at 0x7f41756239d0>"
      ]
     },
     "execution_count": 13,
     "metadata": {},
     "output_type": "execute_result"
    },
    {
     "data": {
      "image/png": "[encoded data removed]",
      "text/plain": [
       "<Figure size 432x288 with 1 Axes>"
      ]
     },
     "metadata": {
      "needs_background": "light"
     },
     "output_type": "display_data"
    }
   ],
   "source": [
    "# generation to image\n",
    "G.eval()\n",
    "plt.imshow(get_sample_image(G, N_NOISE)[0])"
   ]
  },
  {
   "cell_type": "code",
   "execution_count": 14,
   "id": "6fc962e8-3005-41ae-b176-4d39b22ca967",
   "metadata": {},
   "outputs": [],
   "source": [
    "def save_checkpoint(state, file_name='checkpoint.pth'):\n",
    "    torch.save(state, file_name)"
   ]
  },
  {
   "cell_type": "code",
   "execution_count": 15,
   "id": "8576fe09-3817-4311-9392-5522562089f7",
   "metadata": {},
   "outputs": [],
   "source": [
    "# Saving params\n",
    "# torch.save(D.state_dict(), 'D_c.pkl')\n",
    "# torch.save(G.state_dict(), 'G_c.pkl')\n",
    "save_checkpoint({'epoch': epoch + 1,\n",
    "                 'D':D.state_dict(),\n",
    "                 'G':G.state_dict(),\n",
    "                 'd_optim': D_opt.state_dict(),\n",
    "                 'g_optim' : G_opt.state_dict()},\n",
    "            'dcgan.pth.tar')"
   ]
  },
  {
   "cell_type": "code",
   "execution_count": null,
   "id": "1f3bf2ba-1738-46d9-9a5f-4a401390ec1b",
   "metadata": {},
   "outputs": [],
   "source": []
  },
  {
   "cell_type": "code",
   "execution_count": null,
   "id": "88715739-1b27-467e-944d-781eb8bd710a",
   "metadata": {},
   "outputs": [],
   "source": []
  }
 ],
 "metadata": {
  "kernelspec": {
   "display_name": "Python 3",
   "language": "python",
   "name": "python3"
  },
  "language_info": {
   "codemirror_mode": {
    "name": "ipython",
    "version": 3
   },
   "file_extension": ".py",
   "mimetype": "text/x-python",
   "name": "python",
   "nbconvert_exporter": "python",
   "pygments_lexer": "ipython3",
   "version": "3.8.6"
  }
 },
 "nbformat": 4,
 "nbformat_minor": 5
}
